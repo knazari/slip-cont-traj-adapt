{
 "cells": [
  {
   "cell_type": "code",
   "execution_count": 1,
   "metadata": {},
   "outputs": [],
   "source": [
    "import glob\n",
    "import numpy as np\n",
    "from pickle import dump\n",
    "\n",
    "import torch\n",
    "import torch.nn as nn\n",
    "import torch.optim as optim\n",
    "from torch.utils.data import Dataset, DataLoader\n",
    "\n",
    "from sklearn.preprocessing import StandardScaler\n",
    "from sklearn.model_selection import train_test_split\n",
    "from sklearn.metrics import confusion_matrix, classification_report, accuracy_score"
   ]
  },
  {
   "cell_type": "code",
   "execution_count": 3,
   "metadata": {},
   "outputs": [],
   "source": [
    "class ClassifierLSTM(nn.Module):\n",
    "    def __init__(self, device, context_frames):\n",
    "        super(ClassifierLSTM, self).__init__()\n",
    "        self.device = device\n",
    "        self.context_frames = context_frames\n",
    "        self.lstm = nn.LSTM(32, 200).to(device)  # tactile\n",
    "        self.fc1 = nn.Linear(200, 40).to(device)\n",
    "        self.fc2 = nn.Linear(40, 1).to(device)\n",
    "        self.tanh_activation = nn.Tanh().to(device)\n",
    "        self.relu_activation = nn.ReLU().to(device)\n",
    "        self.softmax_activation = nn.Softmax(dim=1).to(device) #we don't use this because BCE loss in pytorch automatically applies the the Sigmoid activation\n",
    "        self.dropout = nn.Dropout(p=0.5)\n",
    "\n",
    "    def forward(self, tactiles):\n",
    "        batch_size__ = tactiles.shape[1]\n",
    "        hidden = (torch.zeros(1, batch_size__, 200, device=torch.device('cuda')), torch.zeros(1, batch_size__, 200, device=torch.device('cuda')))\n",
    "        lstm_out, self.hidden_lstm = self.lstm(tactiles, hidden)\n",
    "        lstm_out_drop = self.dropout(lstm_out[-1])\n",
    "        fc1_out = self.relu_activation(self.fc1(lstm_out_drop))\n",
    "        fc1_out_drop = self.dropout(fc1_out)\n",
    "        fc2_out = self.tanh_activation(self.fc2(fc1_out_drop))\n",
    "\n",
    "        return fc2_out"
   ]
  },
  {
   "cell_type": "code",
   "execution_count": 4,
   "metadata": {},
   "outputs": [],
   "source": [
    "data_dir = '/home/kia/Kiyanoush/UoLincoln/Projects/Tactile_control/tactile_prediction/uninversal_trainer/ACTP/saved_models/model_23_02_2022_10_38/test_results_slip'\n",
    "files = sorted(glob.glob(data_dir + '/*'))"
   ]
  },
  {
   "cell_type": "code",
   "execution_count": 5,
   "metadata": {},
   "outputs": [],
   "source": [
    "for index, file in enumerate(files):\n",
    "    if index == 0:\n",
    "        t10_prediction_full = np.load(file + '/prediction_data.npy')[:, :, :32]\n",
    "        slip_data_full = np.load(file + '/slip_data.npy')\n",
    "    else:\n",
    "        t10_prediction = np.load(file + '/prediction_data.npy')[:, :, :32]\n",
    "        slip_data = np.load(file + '/slip_data.npy')\n",
    "        t10_prediction_full = np.concatenate((t10_prediction_full, t10_prediction), axis=0)\n",
    "        slip_data_full = np.concatenate((slip_data_full, slip_data), axis=0)"
   ]
  },
  {
   "cell_type": "code",
   "execution_count": 6,
   "metadata": {},
   "outputs": [
    {
     "name": "stdout",
     "output_type": "stream",
     "text": [
      "(188512, 10, 32)\n"
     ]
    }
   ],
   "source": [
    "print(t10_prediction_full.shape)"
   ]
  },
  {
   "cell_type": "code",
   "execution_count": 7,
   "metadata": {},
   "outputs": [],
   "source": [
    "def detemporalize(X_seq):\n",
    "    x_2d = np.zeros((X_seq.shape[0] * X_seq.shape[1], X_seq.shape[2]))\n",
    "    for index, seq in enumerate(X_seq):\n",
    "        x_2d[10*index:10*(index+1)] = seq\n",
    "       \n",
    "    return x_2d"
   ]
  },
  {
   "cell_type": "code",
   "execution_count": 8,
   "metadata": {},
   "outputs": [],
   "source": [
    "X_train, X_test, y_train, y_test = train_test_split(t10_prediction_full, slip_data_full, test_size=0.3, random_state=42)\n",
    "\n",
    "X_train_2d = detemporalize(X_train)\n",
    "X_test_2d = detemporalize(X_test)\n",
    "scaler = StandardScaler()\n",
    "scaler = scaler.fit(X_train_2d)\n",
    "X_train = scaler.transform(X_train_2d)\n",
    "X_test = scaler.transform(X_test_2d)\n",
    "dump(scaler, open('classifier_standard_scaler.pkl', 'wb'))"
   ]
  },
  {
   "cell_type": "code",
   "execution_count": 9,
   "metadata": {},
   "outputs": [],
   "source": [
    "def temporalize(data_2d, seq_len):\n",
    "    x_3d = np.zeros((int(data_2d.shape[0] / seq_len), seq_len, data_2d.shape[1]))\n",
    "    for index in range(x_3d.shape[0]):\n",
    "        x_3d[index] = data_2d[10*index:10*(index+1)]\n",
    "    \n",
    "    return x_3d"
   ]
  },
  {
   "cell_type": "code",
   "execution_count": 10,
   "metadata": {},
   "outputs": [],
   "source": [
    "X_train = temporalize(X_train, 10)\n",
    "X_test = temporalize(X_test, 10)"
   ]
  },
  {
   "cell_type": "code",
   "execution_count": 11,
   "metadata": {},
   "outputs": [
    {
     "name": "stdout",
     "output_type": "stream",
     "text": [
      "(131958, 10, 32)\n",
      "(56554, 10, 32)\n"
     ]
    }
   ],
   "source": [
    "print(X_train.shape)\n",
    "print(X_test.shape)"
   ]
  },
  {
   "cell_type": "code",
   "execution_count": 12,
   "metadata": {},
   "outputs": [],
   "source": [
    "## train data\n",
    "class TrainData(Dataset):\n",
    "    def __init__(self, X_data, y_data):\n",
    "        self.X_data = X_data\n",
    "        self.y_data = y_data\n",
    "\n",
    "    def __getitem__(self, index):\n",
    "        return self.X_data[index], self.y_data[index]\n",
    "\n",
    "    def __len__ (self):\n",
    "        return len(self.X_data)\n",
    "\n",
    "train_data = TrainData(X_train, y_train)\n",
    "\n",
    "## test data    \n",
    "class TestData(Dataset):    \n",
    "    def __init__(self, X_data):\n",
    "        self.X_data = X_data\n",
    "\n",
    "    def __getitem__(self, index):\n",
    "        return self.X_data[index]\n",
    "\n",
    "    def __len__ (self):\n",
    "        return len(self.X_data)\n",
    "    \n",
    "test_data = TestData(X_test)"
   ]
  },
  {
   "cell_type": "code",
   "execution_count": 13,
   "metadata": {},
   "outputs": [],
   "source": [
    "train_loader = DataLoader(dataset=train_data, batch_size=32, shuffle=True)\n",
    "test_loader = DataLoader(dataset=test_data, batch_size=1)"
   ]
  },
  {
   "cell_type": "code",
   "execution_count": 14,
   "metadata": {},
   "outputs": [
    {
     "name": "stdout",
     "output_type": "stream",
     "text": [
      "cuda:0\n",
      "ClassifierLSTM(\n",
      "  (lstm): LSTM(32, 200)\n",
      "  (fc1): Linear(in_features=200, out_features=40, bias=True)\n",
      "  (fc2): Linear(in_features=40, out_features=1, bias=True)\n",
      "  (tanh_activation): Tanh()\n",
      "  (relu_activation): ReLU()\n",
      "  (softmax_activation): Softmax(dim=1)\n",
      "  (dropout): Dropout(p=0.5, inplace=False)\n",
      ")\n"
     ]
    }
   ],
   "source": [
    "device = torch.device(\"cuda:0\" if torch.cuda.is_available() else \"cpu\")\n",
    "print(device)\n",
    "model = ClassifierLSTM(device, context_frames=10)\n",
    "model.to(device)\n",
    "criterion = nn.BCEWithLogitsLoss()\n",
    "optimizer = optim.Adam(model.parameters(), lr=0.001)\n",
    "print(model)"
   ]
  },
  {
   "cell_type": "code",
   "execution_count": 15,
   "metadata": {},
   "outputs": [
    {
     "name": "stdout",
     "output_type": "stream",
     "text": [
      "195281\n"
     ]
    }
   ],
   "source": [
    "def count_parameters(model):\n",
    "    return sum(p.numel() for p in model.parameters() if p.requires_grad)\n",
    "\n",
    "print(count_parameters(model))"
   ]
  },
  {
   "cell_type": "code",
   "execution_count": 16,
   "metadata": {},
   "outputs": [],
   "source": [
    "def binary_acc(y_pred, y_test):\n",
    "    y_pred_tag = torch.round(torch.sigmoid(y_pred))\n",
    "\n",
    "    correct_results_sum = (y_pred_tag == y_test).sum().float()\n",
    "    acc = correct_results_sum/y_test.shape[0]\n",
    "    acc = torch.round(acc * 100)\n",
    "    \n",
    "    return acc"
   ]
  },
  {
   "cell_type": "code",
   "execution_count": 16,
   "metadata": {},
   "outputs": [
    {
     "name": "stdout",
     "output_type": "stream",
     "text": [
      "Epoch 001: | Loss: 0.35810 | Train Acc: 95.579 | Val Acc: 97.639 | saved model\n",
      "Epoch 002: | Loss: 0.33577 | Train Acc: 97.745 | Val Acc: 98.175 | saved model\n",
      "Epoch 003: | Loss: 0.33276 | Train Acc: 98.051 | Val Acc: 98.168 | \n",
      "Epoch 004: | Loss: 0.33065 | Train Acc: 98.247 | Val Acc: 98.371 | saved model\n",
      "Epoch 005: | Loss: 0.32977 | Train Acc: 98.370 | Val Acc: 98.665 | saved model\n",
      "Epoch 006: | Loss: 0.32972 | Train Acc: 98.369 | Val Acc: 98.739 | saved model\n",
      "Epoch 007: | Loss: 0.32797 | Train Acc: 98.536 | Val Acc: 98.478 | \n",
      "Epoch 008: | Loss: 0.32692 | Train Acc: 98.646 | Val Acc: 98.799 | saved model\n",
      "Epoch 009: | Loss: 0.32672 | Train Acc: 98.677 | Val Acc: 98.333 | \n",
      "Epoch 010: | Loss: 0.32633 | Train Acc: 98.702 | Val Acc: 98.713 | \n",
      "Epoch 011: | Loss: 0.32562 | Train Acc: 98.771 | Val Acc: 98.838 | saved model\n",
      "Epoch 012: | Loss: 0.32591 | Train Acc: 98.757 | Val Acc: 98.787 | \n",
      "Epoch 013: | Loss: 0.32515 | Train Acc: 98.828 | Val Acc: 98.814 | \n",
      "Epoch 014: | Loss: 0.32594 | Train Acc: 98.758 | Val Acc: 98.886 | saved model\n",
      "Epoch 015: | Loss: 0.32497 | Train Acc: 98.842 | Val Acc: 98.969 | saved model\n",
      "Epoch 016: | Loss: 0.32458 | Train Acc: 98.891 | Val Acc: 98.953 | \n",
      "Epoch 017: | Loss: 0.32428 | Train Acc: 98.907 | Val Acc: 98.992 | saved model\n",
      "Epoch 018: | Loss: 0.32399 | Train Acc: 98.937 | Val Acc: 98.999 | saved model\n",
      "Epoch 019: | Loss: 0.32348 | Train Acc: 98.984 | Val Acc: 99.006 | saved model\n",
      "Epoch 020: | Loss: 0.32283 | Train Acc: 99.051 | Val Acc: 98.877 | \n",
      "Epoch 021: | Loss: 0.32400 | Train Acc: 98.936 | Val Acc: 98.897 | \n",
      "Epoch 022: | Loss: 0.32320 | Train Acc: 99.010 | Val Acc: 98.697 | \n",
      "Epoch 023: | Loss: 0.32372 | Train Acc: 98.966 | Val Acc: 98.934 | \n",
      "Epoch 024: | Loss: 0.32410 | Train Acc: 98.930 | Val Acc: 98.838 | \n",
      "Epoch 025: | Loss: 0.32324 | Train Acc: 99.021 | Val Acc: 99.061 | saved model\n",
      "Epoch 026: | Loss: 0.32470 | Train Acc: 98.875 | Val Acc: 98.833 | \n",
      "Epoch 027: | Loss: 0.32392 | Train Acc: 98.953 | Val Acc: 98.898 | \n",
      "Epoch 028: | Loss: 0.32314 | Train Acc: 99.031 | Val Acc: 98.996 | \n",
      "Epoch 029: | Loss: 0.32309 | Train Acc: 99.023 | Val Acc: 99.172 | saved model\n",
      "Epoch 030: | Loss: 0.32233 | Train Acc: 99.101 | Val Acc: 99.199 | saved model\n",
      "Epoch 031: | Loss: 0.32250 | Train Acc: 99.087 | Val Acc: 98.964 | \n",
      "Epoch 032: | Loss: 0.32288 | Train Acc: 99.055 | Val Acc: 99.024 | \n",
      "Epoch 033: | Loss: 0.32193 | Train Acc: 99.148 | Val Acc: 99.172 | \n",
      "Epoch 034: | Loss: 0.32285 | Train Acc: 99.056 | Val Acc: 99.142 | \n",
      "Epoch 035: | Loss: 0.32286 | Train Acc: 99.059 | Val Acc: 99.063 | \n",
      "Epoch 036: | Loss: 0.32172 | Train Acc: 99.169 | Val Acc: 99.226 | saved model\n",
      "Epoch 037: | Loss: 0.32195 | Train Acc: 99.146 | Val Acc: 99.194 | \n",
      "Epoch 038: | Loss: 0.32315 | Train Acc: 99.028 | Val Acc: 98.833 | \n",
      "Epoch 039: | Loss: 0.32298 | Train Acc: 99.042 | Val Acc: 99.171 | \n",
      "Epoch 040: | Loss: 0.32172 | Train Acc: 99.159 | Val Acc: 98.881 | \n",
      "Epoch 041: | Loss: 0.32243 | Train Acc: 99.094 | Val Acc: 99.107 | \n",
      "Epoch 042: | Loss: 0.32127 | Train Acc: 99.204 | Val Acc: 99.096 | \n",
      "Epoch 043: | Loss: 0.32171 | Train Acc: 99.155 | Val Acc: 99.128 | \n",
      "Epoch 044: | Loss: 0.32179 | Train Acc: 99.156 | Val Acc: 99.024 | \n",
      "Epoch 045: | Loss: 0.32186 | Train Acc: 99.154 | Val Acc: 99.199 | \n",
      "Epoch 046: | Loss: 0.32147 | Train Acc: 99.204 | Val Acc: 99.149 | \n",
      "Epoch 047: | Loss: 0.32165 | Train Acc: 99.182 | Val Acc: 99.227 | saved model\n",
      "Epoch 048: | Loss: 0.32148 | Train Acc: 99.196 | Val Acc: 99.300 | saved model\n",
      "Epoch 049: | Loss: 0.32257 | Train Acc: 99.092 | Val Acc: 98.798 | \n",
      "Epoch 050: | Loss: 0.32217 | Train Acc: 99.126 | Val Acc: 98.967 | \n",
      "Epoch 051: | Loss: 0.32128 | Train Acc: 99.217 | Val Acc: 99.024 | \n",
      "Epoch 052: | Loss: 0.32089 | Train Acc: 99.250 | Val Acc: 99.144 | \n",
      "Epoch 053: | Loss: 0.32117 | Train Acc: 99.230 | Val Acc: 99.141 | \n",
      "Epoch 054: | Loss: 0.32120 | Train Acc: 99.223 | Val Acc: 99.206 | \n",
      "Epoch 055: | Loss: 0.32049 | Train Acc: 99.284 | Val Acc: 99.307 | saved model\n",
      "Epoch 056: | Loss: 0.32131 | Train Acc: 99.200 | Val Acc: 99.303 | \n",
      "Epoch 057: | Loss: 0.32090 | Train Acc: 99.250 | Val Acc: 99.079 | \n",
      "Epoch 058: | Loss: 0.32111 | Train Acc: 99.225 | Val Acc: 99.241 | \n",
      "Epoch 059: | Loss: 0.32057 | Train Acc: 99.284 | Val Acc: 99.155 | \n",
      "Epoch 060: | Loss: 0.32096 | Train Acc: 99.241 | Val Acc: 99.300 | \n",
      "Epoch 061: | Loss: 0.32083 | Train Acc: 99.259 | Val Acc: 99.226 | \n",
      "Epoch 062: | Loss: 0.32109 | Train Acc: 99.230 | Val Acc: 99.286 | \n",
      "Epoch 063: | Loss: 0.32073 | Train Acc: 99.259 | Val Acc: 99.137 | \n",
      "Epoch 064: | Loss: 0.32110 | Train Acc: 99.219 | Val Acc: 99.229 | \n",
      "Epoch 065: | Loss: 0.32109 | Train Acc: 99.233 | Val Acc: 99.169 | \n",
      "Epoch 066: | Loss: 0.32118 | Train Acc: 99.216 | Val Acc: 98.985 | \n",
      "Epoch 067: | Loss: 0.32122 | Train Acc: 99.222 | Val Acc: 99.254 | \n",
      "Epoch 068: | Loss: 0.32082 | Train Acc: 99.262 | Val Acc: 99.310 | saved model\n",
      "Epoch 069: | Loss: 0.32036 | Train Acc: 99.302 | Val Acc: 99.356 | saved model\n",
      "Epoch 070: | Loss: 0.32035 | Train Acc: 99.304 | Val Acc: 99.038 | \n"
     ]
    }
   ],
   "source": [
    "epochs = 70\n",
    "score_file = np.zeros((epochs, 2))\n",
    "best_val_acc = 0.0\n",
    "for e in range(1, epochs+1):\n",
    "    model.train()\n",
    "    epoch_loss = 0\n",
    "    epoch_acc = 0\n",
    "    model_save = \"\"\n",
    "    for X_batch, y_batch in train_loader:\n",
    "        X_batch = X_batch.type(torch.FloatTensor)\n",
    "        y_batch = y_batch.type(torch.FloatTensor)\n",
    "        \n",
    "        X_batch = X_batch.permute(1, 0, 2).to(device)\n",
    "        y_batch = y_batch.to(device)\n",
    "\n",
    "        optimizer.zero_grad()\n",
    "        \n",
    "        y_pred = model(X_batch)\n",
    "        \n",
    "        loss = criterion(y_pred, y_batch.unsqueeze(1))\n",
    "        acc = binary_acc(y_pred, y_batch.unsqueeze(1))\n",
    "        \n",
    "        loss.backward()\n",
    "        optimizer.step()\n",
    "        \n",
    "        epoch_loss += loss.item()\n",
    "        epoch_acc += acc.item()\n",
    "    \n",
    "    score_file[e-1, 0] = epoch_acc/len(train_loader)\n",
    "    \n",
    "    with torch.no_grad():\n",
    "        y_pred_list = []\n",
    "        model.eval()\n",
    "        for X_batch in test_loader:\n",
    "            X_batch = X_batch.type(torch.FloatTensor)\n",
    "            X_batch = X_batch.permute(1, 0, 2).to(device)\n",
    "            \n",
    "            X_batch = X_batch.to(device)\n",
    "            y_test_pred = model(X_batch)\n",
    "            y_test_pred = torch.sigmoid(y_test_pred)\n",
    "            y_pred_tag = torch.round(y_test_pred)\n",
    "            y_pred_list.append(y_pred_tag.cpu().numpy())\n",
    "    \n",
    "    y_pred_list = [a.squeeze().tolist() for a in y_pred_list]\n",
    "    \n",
    "    val_acc = accuracy_score(y_test, y_pred_list) * 100\n",
    "\n",
    "    score_file[e-1, 1] = val_acc\n",
    "\n",
    "    if val_acc > best_val_acc:\n",
    "        best_val_acc = val_acc\n",
    "        torch.save(model, 'classifier_lstm')\n",
    "        model_save = \"saved model\"\n",
    "\n",
    "\n",
    "    print(f'Epoch {e+0:03}: | Loss: {epoch_loss/len(train_loader):.5f} | Train Acc: {epoch_acc/len(train_loader):.3f} | Val Acc: {val_acc:.3f} | {model_save}')\n",
    "\n",
    "np.save('scores.npy', score_file)"
   ]
  },
  {
   "cell_type": "code",
   "execution_count": 18,
   "metadata": {},
   "outputs": [],
   "source": [
    "model = torch.load('classifier_lstm').to(device)"
   ]
  },
  {
   "cell_type": "code",
   "execution_count": 19,
   "metadata": {},
   "outputs": [],
   "source": [
    "y_pred_list = []\n",
    "model.eval()\n",
    "\n",
    "with torch.no_grad():\n",
    "    for X_batch in test_loader:\n",
    "        X_batch = X_batch.type(torch.FloatTensor)\n",
    "        X_batch = X_batch.permute(1, 0, 2).to(device)\n",
    "        \n",
    "        X_batch = X_batch.to(device)\n",
    "        y_test_pred = model(X_batch)\n",
    "        y_test_pred = torch.sigmoid(y_test_pred)\n",
    "        y_pred_tag = torch.round(y_test_pred)\n",
    "        y_pred_list.append(y_pred_tag.cpu().numpy())\n",
    "        \n",
    "y_pred_list = [a.squeeze().tolist() for a in y_pred_list]"
   ]
  },
  {
   "cell_type": "code",
   "execution_count": 20,
   "metadata": {},
   "outputs": [
    {
     "name": "stdout",
     "output_type": "stream",
     "text": [
      "              precision    recall  f1-score   support\n",
      "\n",
      "         0.0       1.00      1.00      1.00     51758\n",
      "         1.0       0.96      0.96      0.96      4796\n",
      "\n",
      "    accuracy                           0.99     56554\n",
      "   macro avg       0.98      0.98      0.98     56554\n",
      "weighted avg       0.99      0.99      0.99     56554\n",
      "\n"
     ]
    }
   ],
   "source": [
    "print(classification_report(y_test, y_pred_list))"
   ]
  },
  {
   "cell_type": "code",
   "execution_count": 19,
   "metadata": {},
   "outputs": [
    {
     "data": {
      "text/plain": [
       "Text(0.5, 32.09375, 'Predicted class')"
      ]
     },
     "execution_count": 19,
     "metadata": {},
     "output_type": "execute_result"
    },
    {
     "data": {
      "image/png": "[encoded data removed]",
      "text/plain": [
       "<Figure size 432x432 with 2 Axes>"
      ]
     },
     "metadata": {
      "needs_background": "light"
     },
     "output_type": "display_data"
    }
   ],
   "source": [
    "import seaborn as sns\n",
    "import matplotlib.pyplot as plt\n",
    "conf_matrix = confusion_matrix(y_test, y_pred_list)\n",
    "LABELS = [\"non_slip\",\"slip\"]\n",
    "plt.figure(figsize=(6, 6))\n",
    "sns.heatmap(conf_matrix, xticklabels=LABELS, yticklabels=LABELS, annot=True, fmt=\"d\");\n",
    "plt.title(\"Confusion matrix\")\n",
    "plt.ylabel('True class')\n",
    "plt.xlabel('Predicted class')\n",
    "# plt.savefig('confusion_matrix.png')"
   ]
  },
  {
   "cell_type": "code",
   "execution_count": 69,
   "metadata": {},
   "outputs": [
    {
     "name": "stdout",
     "output_type": "stream",
     "text": [
      "0.007068634033203125\n"
     ]
    }
   ],
   "source": [
    "import time\n",
    "\n",
    "y_pred_list = []\n",
    "model.eval()\n",
    "count = 0\n",
    "t1 = time.time()\n",
    "for X_batch, y_batch in train_loader:\n",
    "    X_batch = X_batch.type(torch.FloatTensor)\n",
    "    X_batch = X_batch.permute(1, 0, 2).to(device)\n",
    "    \n",
    "    X_batch = X_batch.to(device)\n",
    "    y_test_pred = model(X_batch)\n",
    "    y_test_pred = torch.sigmoid(y_test_pred)\n",
    "    y_pred_tag = torch.round(y_test_pred)\n",
    "    y_pred_list.append(y_pred_tag.cpu().detach().numpy())\n",
    "    t2 = time.time()\n",
    "    break\n",
    "\n",
    "print(t2-t1)\n"
   ]
  }
 ],
 "metadata": {
  "interpreter": {
   "hash": "b53fcb633c9691f82046febe19aeee415856832757c230a8d8b4a8d6fbeb0243"
  },
  "kernelspec": {
   "display_name": "Python 3.7.8 64-bit ('tensorflow': conda)",
   "language": "python",
   "name": "python3"
  },
  "language_info": {
   "codemirror_mode": {
    "name": "ipython",
    "version": 3
   },
   "file_extension": ".py",
   "mimetype": "text/x-python",
   "name": "python",
   "nbconvert_exporter": "python",
   "pygments_lexer": "ipython3",
   "version": "3.7.8"
  },
  "orig_nbformat": 4
 },
 "nbformat": 4,
 "nbformat_minor": 2
}
